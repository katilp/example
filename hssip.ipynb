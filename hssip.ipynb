{
 "cells": [
  {
   "cell_type": "markdown",
   "metadata": {},
   "source": [
    "# Hakijoiden arviointi\n",
    "\n",
    "## Ladataan ensin tarvittavat kirjastot"
   ]
  },
  {
   "cell_type": "code",
   "execution_count": null,
   "metadata": {
    "collapsed": true
   },
   "outputs": [],
   "source": [
    "import pandas as pd\n",
    "import numpy as np\n",
    "import matplotlib.pyplot as plt"
   ]
  },
  {
   "cell_type": "markdown",
   "metadata": {},
   "source": [
    "## Luetaan data, johon on muutettu sarakkeiden nimet hieman lyhemmiksi ja korjattu desimaalipilkut pisteiksi"
   ]
  },
  {
   "cell_type": "code",
   "execution_count": null,
   "metadata": {},
   "outputs": [],
   "source": [
    "dataset = pd.read_csv('reg.csv')\n",
    "dataset.head(79)"
   ]
  },
  {
   "cell_type": "markdown",
   "metadata": {},
   "source": [
    "## Lisätään kaksi saraketta, johon myöhemmin syötetään arvio oppilaan antamasta motivaatiosta ja vaikuttavuudesta (aluksi niissä arvona on NaN)"
   ]
  },
  {
   "cell_type": "code",
   "execution_count": null,
   "metadata": {},
   "outputs": [],
   "source": [
    "dataset = dataset.reindex(columns = np.append( dataset.columns.values, ['impact_points','moti_points']))\n",
    "\n",
    "dataset.head()"
   ]
  },
  {
   "cell_type": "markdown",
   "metadata": {},
   "source": [
    "## Vaihdetaan uusimaalaisille alue postinumeron perusteella Helsinki (00), Vantaa (01), Espoo (02) ja Uusimaa (>02)"
   ]
  },
  {
   "cell_type": "code",
   "execution_count": null,
   "metadata": {},
   "outputs": [],
   "source": [
    "dataset.loc[(dataset['Region'] == 'Uusimaa') & (dataset['Postal'] >= 2000) & (dataset['Postal'] <= 2999), 'Region'] = \"Espoo\"\n",
    "dataset.loc[(dataset['Region'] == 'Uusimaa') & (dataset['Postal'] >= 0) & (dataset['Postal'] <= 999), 'Region'] = \"Helsinki\"\n",
    "dataset.loc[(dataset['Region'] == 'Uusimaa') & (dataset['Postal'] >= 1000) & (dataset['Postal'] <= 1999), 'Region'] = \"Vantaa\"\n",
    "\n"
   ]
  },
  {
   "cell_type": "code",
   "execution_count": null,
   "metadata": {},
   "outputs": [],
   "source": [
    "dataset.head(80)"
   ]
  },
  {
   "cell_type": "markdown",
   "metadata": {},
   "source": [
    "## Haetaan lista maakunnista (tai pääkaupunkiseudun kunnista)"
   ]
  },
  {
   "cell_type": "code",
   "execution_count": null,
   "metadata": {},
   "outputs": [],
   "source": [
    "regions = dataset['Region']\n",
    "regions = regions.drop_duplicates()\n",
    "regions\n"
   ]
  },
  {
   "cell_type": "code",
   "execution_count": null,
   "metadata": {},
   "outputs": [],
   "source": [
    "#kokeillaan vaan miten nämä dataframe-kokoelmat toimivat\n",
    "dataframe_collection = {} \n",
    "\n",
    "for i, row in regions.iteritems():\n",
    "    dataframe_collection[regions[i]] = dataset[dataset['Region'] == regions[i]]\n",
    "\n",
    "for key in dataframe_collection.keys():\n",
    "    df1=pd.DataFrame() \n",
    "    df1=dataframe_collection[key][['Name','Postal']] #tämä vain tulostamista varten\n",
    "    print(\"\\n\" +\"=\"*40)\n",
    "    print(key)\n",
    "    print(\"-\"*40)\n",
    "    #print(dataframe_collection[key]['Name'], dataframe_collection[key]['Postal']) #tämäkin toimii, mutta tulevat eri riveille\n",
    "    print(df1)\n",
    "                             "
   ]
  },
  {
   "cell_type": "markdown",
   "metadata": {},
   "source": [
    "## Tulostetaan kullakin alueella erikseen jokaiselle hakijalle hakijan kirjoittama arvio vaikuttavuudesta ja motivaatio, ja annetaan niille pisteet (kokonaislukuina)\n",
    "\n",
    "## Lasketaan pisteytys ottaen mukaan arvosanat sekä motivaation ja vaikuttavuuden arviot\n",
    "\n",
    "## Järjestetään kunkin alueen hakijat pisteiden mukaiseen järjestykseen\n"
   ]
  },
  {
   "cell_type": "code",
   "execution_count": null,
   "metadata": {},
   "outputs": [],
   "source": [
    "# jaetaan tiedot maakunnittain (kunnittain Uudellamaalla)\n",
    "dataframe_collection = {} \n",
    "\n",
    "for i, row in regions.iteritems():\n",
    "    reg = regions[i]\n",
    "    print(\"\\n\" +\"=\"*40)\n",
    "    print(\"Maakunta: \" + regions[i])\n",
    "    print(\"-\"*40)\n",
    "    thisregion = dataset[dataset['Region'] == regions[i]]\n",
    "    for i, row in thisregion.iterrows():\n",
    "        print(thisregion['impact'][i])\n",
    "        imp = input(\"Anna pisteet vaikuttavuudesta: \")\n",
    "        thisregion.at[i, 'impact_points'] = imp\n",
    "    for i, row in thisregion.iterrows():\n",
    "        print(thisregion['motivation'][i])\n",
    "        mot = input(\"Anna pisteet motivaatiosta: \")\n",
    "        thisregion.at[i, 'moti_points'] = mot\n",
    "    thisregion = thisregion.assign(points = thisregion.avph + thisregion.avmat + 1.5*thisregion.moti_points + 2*thisregion.impact_points)\n",
    "    dataframe_collection[reg] = thisregion.sort_values('points', ascending=False)\n"
   ]
  },
  {
   "cell_type": "code",
   "execution_count": null,
   "metadata": {},
   "outputs": [],
   "source": [
    "for key in dataframe_collection.keys():\n",
    "    df1=pd.DataFrame()\n",
    "    df1=dataframe_collection[key][['Name','points']]\n",
    "    print(\"\\n\" +\"=\"*40)\n",
    "    print(key)\n",
    "    print(\"-\"*40)\n",
    "    print(df1)"
   ]
  },
  {
   "cell_type": "code",
   "execution_count": null,
   "metadata": {},
   "outputs": [],
   "source": [
    "s = dataframe_collection['Uusimaa']['motivation'][25]\n",
    "len(s.split())"
   ]
  },
  {
   "cell_type": "code",
   "execution_count": null,
   "metadata": {
    "collapsed": true
   },
   "outputs": [],
   "source": [
    "plt.hist(dataset['avph'])\n",
    "plt.show()"
   ]
  },
  {
   "cell_type": "code",
   "execution_count": null,
   "metadata": {
    "collapsed": true
   },
   "outputs": [],
   "source": [
    "plt.hist(dataset['avmat'])\n",
    "plt.show()"
   ]
  },
  {
   "cell_type": "code",
   "execution_count": null,
   "metadata": {
    "collapsed": true
   },
   "outputs": [],
   "source": [
    "plt.hist(dataset['aveng'])\n",
    "plt.show()"
   ]
  },
  {
   "cell_type": "code",
   "execution_count": null,
   "metadata": {
    "collapsed": true
   },
   "outputs": [],
   "source": [
    "plt.hist(dataset['Postal']/1000,bins=100,range=(0,100))\n",
    "plt.show()"
   ]
  },
  {
   "cell_type": "code",
   "execution_count": null,
   "metadata": {
    "collapsed": true
   },
   "outputs": [],
   "source": [
    "dataset['Region'].value_counts().plot(kind='barh') \n",
    "plt.show()\n"
   ]
  },
  {
   "cell_type": "code",
   "execution_count": null,
   "metadata": {
    "collapsed": true
   },
   "outputs": [],
   "source": [
    "for index, row in dataset.iterrows():\n",
    "    if dataset['Region'][index] == 'Lappi':\n",
    "        print(\"ID: \", row['ID'], \"\\n\", \"Motivation: \" + row['motivation'] + \"\\n\", \"Impact: \" + row['impact'] + \"\\n\")"
   ]
  },
  {
   "cell_type": "code",
   "execution_count": null,
   "metadata": {
    "collapsed": true
   },
   "outputs": [],
   "source": [
    "for index, row in dataset.iterrows():\n",
    "    if dataset['Region'][index] == 'Varsinais-Suomi':\n",
    "        print(\"ID: \", row['ID'], \"\\n\", \"Motivation: \" + row['motivation'] + \"\\n\", \"Impact: \" + row['impact'] + \"\\n\")"
   ]
  },
  {
   "cell_type": "code",
   "execution_count": null,
   "metadata": {
    "collapsed": true
   },
   "outputs": [],
   "source": []
  }
 ],
 "metadata": {
  "kernelspec": {
   "display_name": "Python 3",
   "language": "python",
   "name": "python3"
  },
  "language_info": {
   "codemirror_mode": {
    "name": "ipython",
    "version": 3
   },
   "file_extension": ".py",
   "mimetype": "text/x-python",
   "name": "python",
   "nbconvert_exporter": "python",
   "pygments_lexer": "ipython3",
   "version": "3.6.0"
  }
 },
 "nbformat": 4,
 "nbformat_minor": 2
}
